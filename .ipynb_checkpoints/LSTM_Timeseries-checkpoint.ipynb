{
 "cells": [
  {
   "cell_type": "code",
   "execution_count": 19,
   "metadata": {
    "id": "yfrHjldn-rlV"
   },
   "outputs": [],
   "source": [
    "import pandas as pd \n",
    "import numpy as np\n",
    "from sklearn.preprocessing import MinMaxScaler\n",
    "import matplotlib.pyplot as plt"
   ]
  },
  {
   "cell_type": "code",
   "execution_count": 10,
   "metadata": {
    "id": "aCExzaaQ_GPu"
   },
   "outputs": [],
   "source": [
    "df_train = pd.read_csv('df_train.csv' , sep = ',')\n",
    "df_test = pd.read_csv('df_test.csv' , sep = ',')\n",
    "df = pd.read_csv('df.csv', sep = ',')"
   ]
  },
  {
   "cell_type": "code",
   "execution_count": 11,
   "metadata": {
    "colab": {
     "base_uri": "https://localhost:8080/"
    },
    "id": "KTorUIwSB-8z",
    "outputId": "33870435-4cc8-4f6a-d6c7-d7d9cf54401a"
   },
   "outputs": [
    {
     "name": "stdout",
     "output_type": "stream",
     "text": [
      "<class 'pandas.core.frame.DataFrame'>\n",
      "RangeIndex: 18318 entries, 0 to 18317\n",
      "Data columns (total 15 columns):\n",
      " #   Column     Non-Null Count  Dtype  \n",
      "---  ------     --------------  -----  \n",
      " 0   Date       18318 non-null  object \n",
      " 1   Open       18318 non-null  float64\n",
      " 2   High       18318 non-null  float64\n",
      " 3   Low        18318 non-null  float64\n",
      " 4   Close      18318 non-null  float64\n",
      " 5   Adj Close  18318 non-null  float64\n",
      " 6   Volume     18318 non-null  int64  \n",
      " 7   Dayofweek  18318 non-null  int64  \n",
      " 8   month      18318 non-null  int64  \n",
      " 9   quarter    18318 non-null  int64  \n",
      " 10  year       18318 non-null  int64  \n",
      " 11  Apple      18318 non-null  float64\n",
      " 12  Dell       18318 non-null  float64\n",
      " 13  Google     18318 non-null  float64\n",
      " 14  Microsoft  18318 non-null  float64\n",
      "dtypes: float64(9), int64(5), object(1)\n",
      "memory usage: 2.1+ MB\n"
     ]
    }
   ],
   "source": [
    "df.info()"
   ]
  },
  {
   "cell_type": "code",
   "execution_count": 4,
   "metadata": {
    "colab": {
     "base_uri": "https://localhost:8080/"
    },
    "id": "IEQemutn_GW4",
    "outputId": "99d5e6b4-2ec3-4e14-8cea-091740da726b"
   },
   "outputs": [
    {
     "name": "stdout",
     "output_type": "stream",
     "text": [
      "<class 'pandas.core.frame.DataFrame'>\n",
      "RangeIndex: 12258 entries, 0 to 12257\n",
      "Data columns (total 15 columns):\n",
      " #   Column     Non-Null Count  Dtype  \n",
      "---  ------     --------------  -----  \n",
      " 0   Date       12258 non-null  object \n",
      " 1   Open       12258 non-null  float64\n",
      " 2   High       12258 non-null  float64\n",
      " 3   Low        12258 non-null  float64\n",
      " 4   Close      12258 non-null  float64\n",
      " 5   Adj Close  12258 non-null  float64\n",
      " 6   Volume     12258 non-null  int64  \n",
      " 7   Dayofweek  12258 non-null  int64  \n",
      " 8   month      12258 non-null  int64  \n",
      " 9   quarter    12258 non-null  int64  \n",
      " 10  year       12258 non-null  int64  \n",
      " 11  Apple      12258 non-null  float64\n",
      " 12  Dell       12258 non-null  float64\n",
      " 13  Google     12258 non-null  float64\n",
      " 14  Microsoft  12258 non-null  float64\n",
      "dtypes: float64(9), int64(5), object(1)\n",
      "memory usage: 1.4+ MB\n"
     ]
    }
   ],
   "source": [
    "df_train.shape\n",
    "df_train.info()"
   ]
  },
  {
   "cell_type": "code",
   "execution_count": 12,
   "metadata": {
    "colab": {
     "base_uri": "https://localhost:8080/"
    },
    "id": "iOx8CC7C_GZz",
    "outputId": "91f8b7f1-484e-4194-c2e0-8505dca3e197"
   },
   "outputs": [
    {
     "data": {
      "text/plain": [
       "17403"
      ]
     },
     "execution_count": 12,
     "metadata": {},
     "output_type": "execute_result"
    }
   ],
   "source": [
    "# Create a new dataframe with only the 'Close column \n",
    "data = df.filter(['Close'])\n",
    "# Convert the dataframe to a numpy array\n",
    "dataset = data.values\n",
    "# Get the number of rows to train the model on\n",
    "training_data_len = int(np.ceil( len(dataset) * .95 ))\n",
    "\n",
    "training_data_len"
   ]
  },
  {
   "cell_type": "code",
   "execution_count": 13,
   "metadata": {
    "colab": {
     "base_uri": "https://localhost:8080/"
    },
    "id": "eUaYIvbw_Gcn",
    "outputId": "e23a4a9b-3e5b-41e9-8473-16efc8be61c6"
   },
   "outputs": [
    {
     "data": {
      "text/plain": [
       "array([[0.0005113 ],\n",
       "       [0.00051781],\n",
       "       [0.00052758],\n",
       "       ...,\n",
       "       [0.11851442],\n",
       "       [0.123035  ],\n",
       "       [0.12262669]])"
      ]
     },
     "execution_count": 13,
     "metadata": {},
     "output_type": "execute_result"
    }
   ],
   "source": [
    "scaler = MinMaxScaler(feature_range=(0,1))\n",
    "scaled_data = scaler.fit_transform(dataset)\n",
    "scaled_data"
   ]
  },
  {
   "cell_type": "code",
   "execution_count": 14,
   "metadata": {
    "colab": {
     "base_uri": "https://localhost:8080/"
    },
    "id": "47cezQhPCUq3",
    "outputId": "69b5a1b9-d2b4-4a6c-dace-05393b6a175b"
   },
   "outputs": [
    {
     "name": "stdout",
     "output_type": "stream",
     "text": [
      "[array([0.0005113 , 0.00051781, 0.00052758, 0.00039412, 0.00039249,\n",
      "       0.0003811 , 0.00037296, 0.00032739, 0.00032576, 0.00034204,\n",
      "       0.00037133, 0.00036157, 0.0003811 , 0.00038924, 0.00038272,\n",
      "       0.00033715, 0.0003632 , 0.00030298, 0.00026229, 0.00029972,\n",
      "       0.00028507, 0.00031437, 0.00034855, 0.0002981 , 0.00031437,\n",
      "       0.00028019, 0.00025415, 0.00028507, 0.00031763, 0.00031763,\n",
      "       0.00029158, 0.00027856, 0.00022323, 0.00019556, 0.00021835,\n",
      "       0.00020696, 0.00018742, 0.00018091, 0.00021184, 0.00020533,\n",
      "       0.00016464, 0.00015487, 0.00018091, 0.0002037 , 0.00024113,\n",
      "       0.0002037 , 0.00024113, 0.00018905, 0.00022974, 0.00017603,\n",
      "       0.00019393, 0.00019719, 0.00018254, 0.00023788, 0.0002509 ,\n",
      "       0.00025253, 0.00025578, 0.00028182, 0.00030623, 0.00028345])]\n",
      "[0.0002769371302211137]\n",
      "\n",
      "[array([0.0005113 , 0.00051781, 0.00052758, 0.00039412, 0.00039249,\n",
      "       0.0003811 , 0.00037296, 0.00032739, 0.00032576, 0.00034204,\n",
      "       0.00037133, 0.00036157, 0.0003811 , 0.00038924, 0.00038272,\n",
      "       0.00033715, 0.0003632 , 0.00030298, 0.00026229, 0.00029972,\n",
      "       0.00028507, 0.00031437, 0.00034855, 0.0002981 , 0.00031437,\n",
      "       0.00028019, 0.00025415, 0.00028507, 0.00031763, 0.00031763,\n",
      "       0.00029158, 0.00027856, 0.00022323, 0.00019556, 0.00021835,\n",
      "       0.00020696, 0.00018742, 0.00018091, 0.00021184, 0.00020533,\n",
      "       0.00016464, 0.00015487, 0.00018091, 0.0002037 , 0.00024113,\n",
      "       0.0002037 , 0.00024113, 0.00018905, 0.00022974, 0.00017603,\n",
      "       0.00019393, 0.00019719, 0.00018254, 0.00023788, 0.0002509 ,\n",
      "       0.00025253, 0.00025578, 0.00028182, 0.00030623, 0.00028345]), array([0.00051781, 0.00052758, 0.00039412, 0.00039249, 0.0003811 ,\n",
      "       0.00037296, 0.00032739, 0.00032576, 0.00034204, 0.00037133,\n",
      "       0.00036157, 0.0003811 , 0.00038924, 0.00038272, 0.00033715,\n",
      "       0.0003632 , 0.00030298, 0.00026229, 0.00029972, 0.00028507,\n",
      "       0.00031437, 0.00034855, 0.0002981 , 0.00031437, 0.00028019,\n",
      "       0.00025415, 0.00028507, 0.00031763, 0.00031763, 0.00029158,\n",
      "       0.00027856, 0.00022323, 0.00019556, 0.00021835, 0.00020696,\n",
      "       0.00018742, 0.00018091, 0.00021184, 0.00020533, 0.00016464,\n",
      "       0.00015487, 0.00018091, 0.0002037 , 0.00024113, 0.0002037 ,\n",
      "       0.00024113, 0.00018905, 0.00022974, 0.00017603, 0.00019393,\n",
      "       0.00019719, 0.00018254, 0.00023788, 0.0002509 , 0.00025253,\n",
      "       0.00025578, 0.00028182, 0.00030623, 0.00028345, 0.00027694])]\n",
      "[0.0002769371302211137, 0.0002736822843147183]\n",
      "\n"
     ]
    }
   ],
   "source": [
    "# Create the training data set \n",
    "# Create the scaled training data set\n",
    "train_data = scaled_data[0:int(training_data_len), :]\n",
    "# Split the data into x_train and y_train data sets\n",
    "x_train = []\n",
    "y_train = []\n",
    "\n",
    "for i in range(60, len(train_data)):\n",
    "    x_train.append(train_data[i-60:i, 0])\n",
    "    y_train.append(train_data[i, 0])\n",
    "    if i<= 61:\n",
    "        print(x_train)\n",
    "        print(y_train)\n",
    "        print()\n",
    "        \n",
    "# Convert the x_train and y_train to numpy arrays \n",
    "x_train, y_train = np.array(x_train), np.array(y_train)\n",
    "\n",
    "# Reshape the data\n",
    "x_train = np.reshape(x_train, (x_train.shape[0], x_train.shape[1], 1))\n",
    "# x_train.shape"
   ]
  },
  {
   "cell_type": "code",
   "execution_count": 7,
   "metadata": {
    "id": "dFLdK3E7_GfD"
   },
   "outputs": [],
   "source": [
    "from keras.models import Sequential\n",
    "from keras.layers import Dense, LSTM"
   ]
  },
  {
   "cell_type": "code",
   "execution_count": 16,
   "metadata": {
    "colab": {
     "base_uri": "https://localhost:8080/"
    },
    "id": "f78CJFzSAQZF",
    "outputId": "c57a9568-c388-46b1-e49e-7b7c65ca20cb"
   },
   "outputs": [
    {
     "name": "stdout",
     "output_type": "stream",
     "text": [
      "17343/17343 [==============================] - 592s 34ms/step - loss: 4.6416e-04\n"
     ]
    },
    {
     "data": {
      "text/plain": [
       "<keras.callbacks.History at 0x7f637ae66c10>"
      ]
     },
     "execution_count": 16,
     "metadata": {},
     "output_type": "execute_result"
    }
   ],
   "source": [
    "# Build the LSTM model\n",
    "model = Sequential()\n",
    "model.add(LSTM(128, return_sequences=True, input_shape= (x_train.shape[1], 1)))\n",
    "model.add(LSTM(64, return_sequences=False))\n",
    "model.add(Dense(25))\n",
    "model.add(Dense(1))\n",
    "\n",
    "# Compile the model\n",
    "model.compile(optimizer='adam', loss='mean_squared_error')\n",
    "\n",
    "# Train the model\n",
    "model.fit(x_train, y_train, batch_size=1, epochs=1)"
   ]
  },
  {
   "cell_type": "code",
   "execution_count": 17,
   "metadata": {
    "colab": {
     "base_uri": "https://localhost:8080/"
    },
    "id": "0cbRBdE9AQhA",
    "outputId": "c7b96cc7-2ad6-4bdd-eac2-0dd15dd551ad"
   },
   "outputs": [
    {
     "name": "stdout",
     "output_type": "stream",
     "text": [
      "29/29 [==============================] - 2s 40ms/step\n"
     ]
    },
    {
     "data": {
      "text/plain": [
       "1.4155620979629553"
      ]
     },
     "execution_count": 17,
     "metadata": {},
     "output_type": "execute_result"
    }
   ],
   "source": [
    "# Create the testing data set\n",
    "# Create a new array containing scaled values from index 1543 to 2002 \n",
    "test_data = scaled_data[training_data_len - 60: , :]\n",
    "# Create the data sets x_test and y_test\n",
    "x_test = []\n",
    "y_test = dataset[training_data_len:, :]\n",
    "for i in range(60, len(test_data)):\n",
    "    x_test.append(test_data[i-60:i, 0])\n",
    "    \n",
    "# Convert the data to a numpy array\n",
    "x_test = np.array(x_test)\n",
    "\n",
    "# Reshape the data\n",
    "x_test = np.reshape(x_test, (x_test.shape[0], x_test.shape[1], 1 ))\n",
    "\n",
    "# Get the models predicted price values \n",
    "predictions = model.predict(x_test)\n",
    "predictions = scaler.inverse_transform(predictions)\n",
    "\n",
    "# Get the root mean squared error (RMSE)\n",
    "rmse = np.sqrt(np.mean(((predictions - y_test) ** 2)))\n",
    "rmse"
   ]
  },
  {
   "cell_type": "code",
   "execution_count": 20,
   "metadata": {
    "colab": {
     "base_uri": "https://localhost:8080/",
     "height": 496
    },
    "id": "pupuKVkdFQLJ",
    "outputId": "cc91901b-ae15-4fc1-9210-b5b87c2ef6f4"
   },
   "outputs": [
    {
     "name": "stderr",
     "output_type": "stream",
     "text": [
      "<ipython-input-20-0cdd5e68a3a9>:4: SettingWithCopyWarning: \n",
      "A value is trying to be set on a copy of a slice from a DataFrame.\n",
      "Try using .loc[row_indexer,col_indexer] = value instead\n",
      "\n",
      "See the caveats in the documentation: https://pandas.pydata.org/pandas-docs/stable/user_guide/indexing.html#returning-a-view-versus-a-copy\n",
      "  valid['Predictions'] = predictions\n"
     ]
    },
    {
     "data": {
      "image/png": "[encoded data removed]",
      "text/plain": [
       "<Figure size 1152x432 with 1 Axes>"
      ]
     },
     "metadata": {
      "needs_background": "light"
     },
     "output_type": "display_data"
    }
   ],
   "source": [
    "# Plot the data\n",
    "train = data[:training_data_len]\n",
    "valid = data[training_data_len:]\n",
    "valid['Predictions'] = predictions\n",
    "# Visualize the data\n",
    "plt.figure(figsize=(16,6))\n",
    "plt.title('Model')\n",
    "plt.xlabel('Date', fontsize=18)\n",
    "plt.ylabel('Close Price USD ($)', fontsize=18)\n",
    "plt.plot(train['Close'])\n",
    "plt.plot(valid[['Close', 'Predictions']])\n",
    "plt.legend(['Train', 'Val', 'Predictions'], loc='lower right')\n",
    "plt.show()"
   ]
  }
 ],
 "metadata": {
  "colab": {
   "provenance": []
  },
  "kernelspec": {
   "display_name": "Python 3 (ipykernel)",
   "language": "python",
   "name": "python3"
  },
  "language_info": {
   "codemirror_mode": {
    "name": "ipython",
    "version": 3
   },
   "file_extension": ".py",
   "mimetype": "text/x-python",
   "name": "python",
   "nbconvert_exporter": "python",
   "pygments_lexer": "ipython3",
   "version": "3.11.1"
  }
 },
 "nbformat": 4,
 "nbformat_minor": 1
}
